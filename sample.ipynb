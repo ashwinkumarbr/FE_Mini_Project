# below is a sample code for scrapping product name and price.

import requests
from urllib.request import Request, urlopen
from bs4 import BeautifulSoup as soup
my_url = "https://www.amazon.in/s?k=grocery+items&i=specialty-aps&srs=21246965031&crid=24KOXLV4N1VDM&sprefix=groce%2Cspecialty-aps%2C272&ref=nb_sb_ss_organic-diversity_1_5"
req = Request(my_url, headers={'User-Agent': 'Mozilla/5.0'})
page_html = urlopen(req).read()    
page_soup = soup(page_html, "html.parser")   
product_name = page_soup.findAll("span",{"class":"a-size-medium a-color-base a-text-normal"})
product_price = page_soup.findAll("span",{"class":"a-price-whole"})
for i in range(15):
    #print(product_name[i])
    #print(product_price[i])
    print("Product Name: " + product_name[i].text.strip() + " Product Price: " +  product_price[i].text.strip())
